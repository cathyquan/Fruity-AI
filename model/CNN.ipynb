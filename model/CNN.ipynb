{
 "cells": [
  {
   "cell_type": "code",
   "execution_count": 166,
   "metadata": {},
   "outputs": [],
   "source": [
    "import numpy as np\n",
    "import pandas as pd\n",
    "import tensorflow as tf\n",
    "from PIL import Image\n",
    "from tensorflow.keras import layers, models\n",
    "from tensorflow.keras.preprocessing.image import load_img, img_to_array"
   ]
  },
  {
   "cell_type": "markdown",
   "metadata": {},
   "source": [
    "# Data Preparation"
   ]
  },
  {
   "cell_type": "code",
   "execution_count": 167,
   "metadata": {},
   "outputs": [],
   "source": [
    "def resize_and_pad_image(file_path, max_dimension, target_size=(64, 64)):\n",
    "    # Open the image\n",
    "    image = Image.open(file_path)\n",
    "    \n",
    "    # Get original width and height\n",
    "    original_width, original_height = image.size\n",
    "    \n",
    "    # Calculate aspect ratio\n",
    "    aspect_ratio = original_width / original_height\n",
    "    \n",
    "    # Determine new dimensions\n",
    "    if original_width >= original_height:\n",
    "        new_width = max_dimension\n",
    "        new_height = int(max_dimension / aspect_ratio)\n",
    "    else:\n",
    "        new_height = max_dimension\n",
    "        new_width = int(max_dimension * aspect_ratio)\n",
    "    \n",
    "    # Resize the image while maintaining aspect ratio\n",
    "    resized_image = image.resize((new_width, new_height), Image.LANCZOS)\n",
    "    \n",
    "    # Create a new blank white image with the target size\n",
    "    new_image = Image.new(\"RGB\", target_size, color=\"black\")\n",
    "\n",
    "    # Paste the resized image onto the center of the blank white image\n",
    "    position = ((target_size[0] - resized_image.size[0]) // 2, (target_size[1] - resized_image.size[1]) // 2)\n",
    "    new_image.paste(resized_image, position)\n",
    "    \n",
    "    return new_image"
   ]
  },
  {
   "cell_type": "code",
   "execution_count": 168,
   "metadata": {},
   "outputs": [],
   "source": [
    "# Load and preprocess images from file paths\n",
    "def load_image(file_path, max_dimension=64):\n",
    "    resized_image = resize_and_pad_image(file_path, max_dimension)\n",
    "    image_array = img_to_array(resized_image) / 255.0\n",
    "    return image_array"
   ]
  },
  {
   "cell_type": "code",
   "execution_count": 169,
   "metadata": {},
   "outputs": [],
   "source": [
    "def prepare_data(file_path):\n",
    "    # Read the csv file\n",
    "    df = pd.read_csv(file_path)\n",
    "\n",
    "    # Trim dataset for faster testing for now\n",
    "    #df = df.sample(n=50, random_state=42)\n",
    "\n",
    "    # Append data/ in front of every image file path\n",
    "    df['image:FILE'] = 'data/' + df['image:FILE']\n",
    "    \n",
    "    # Add new column with loaded image\n",
    "    df['image'] = df['image:FILE'].apply(lambda x: load_image(x))\n",
    "\n",
    "    # Shuffle the dataframe\n",
    "    df = df.sample(frac=1.0, random_state=42)\n",
    "\n",
    "    X = np.stack(df['image'].to_numpy())\n",
    "    y = df['category'].to_numpy()\n",
    "\n",
    "    return X, y\n"
   ]
  },
  {
   "cell_type": "code",
   "execution_count": 170,
   "metadata": {},
   "outputs": [],
   "source": [
    "X_train, y_train = prepare_data('data/test.csv')\n",
    "X_val, y_val = prepare_data('data/val.csv')\n",
    "X_test, y_test = prepare_data('data/test.csv')"
   ]
  },
  {
   "cell_type": "markdown",
   "metadata": {},
   "source": [
    "# Train Model"
   ]
  },
  {
   "cell_type": "code",
   "execution_count": 171,
   "metadata": {},
   "outputs": [],
   "source": [
    "# To ensure we have reproducable results for each model execution\n",
    "import os\n",
    "os.environ['TF_NUM_INTEROP_THREADS'] = '1'"
   ]
  },
  {
   "cell_type": "code",
   "execution_count": 172,
   "metadata": {},
   "outputs": [],
   "source": [
    "def CNN_train():\n",
    "    # Set random seed for TensorFlow operations\n",
    "    tf.random.set_seed(42)\n",
    "    \n",
    "    # Define the CNN architecture\n",
    "    model = models.Sequential([\n",
    "        layers.Input(shape=(64, 64, 3)),\n",
    "        layers.Conv2D(32, (3, 3), activation='relu'),\n",
    "        layers.MaxPooling2D((2, 2)),\n",
    "        layers.Conv2D(64, (3, 3), activation='relu'),\n",
    "        layers.MaxPooling2D((2, 2)),\n",
    "        layers.Conv2D(64, (3, 3), activation='relu'),\n",
    "        layers.Flatten(),\n",
    "        layers.Dense(64, activation='relu'),\n",
    "        layers.Dense(30)  # 30 unique labels in dataset\n",
    "    ])\n",
    "\n",
    "    # Compile the model\n",
    "    model.compile(optimizer='adam',\n",
    "        loss=tf.keras.losses.SparseCategoricalCrossentropy(from_logits=True),\n",
    "        metrics=['accuracy'])\n",
    "    \n",
    "    # Train the model\n",
    "    model.fit(X_train, y_train, epochs=15, validation_data=(X_val, y_val))\n",
    "\n",
    "    # Evaluate the model\n",
    "    test_loss, test_acc = model.evaluate(X_test, y_test, verbose=2)\n",
    "    print(f'Test accuracy: {test_acc}')\n",
    "    print(f'Test loss: {test_loss}')\n",
    "\n",
    "    # Save the model\n",
    "    #model.save('CNN_model.h5')"
   ]
  },
  {
   "cell_type": "code",
   "execution_count": 173,
   "metadata": {},
   "outputs": [
    {
     "name": "stdout",
     "output_type": "stream",
     "text": [
      "Epoch 1/15\n",
      "\u001b[1m188/188\u001b[0m \u001b[32m━━━━━━━━━━━━━━━━━━━━\u001b[0m\u001b[37m\u001b[0m \u001b[1m19s\u001b[0m 87ms/step - accuracy: 0.0957 - loss: 3.1703 - val_accuracy: 0.1623 - val_loss: 2.9224\n",
      "Epoch 2/15\n",
      "\u001b[1m188/188\u001b[0m \u001b[32m━━━━━━━━━━━━━━━━━━━━\u001b[0m\u001b[37m\u001b[0m \u001b[1m17s\u001b[0m 92ms/step - accuracy: 0.2849 - loss: 2.3425 - val_accuracy: 0.2733 - val_loss: 2.5837\n",
      "Epoch 3/15\n",
      "\u001b[1m188/188\u001b[0m \u001b[32m━━━━━━━━━━━━━━━━━━━━\u001b[0m\u001b[37m\u001b[0m \u001b[1m18s\u001b[0m 96ms/step - accuracy: 0.4104 - loss: 1.9576 - val_accuracy: 0.3340 - val_loss: 2.3359\n",
      "Epoch 4/15\n",
      "\u001b[1m188/188\u001b[0m \u001b[32m━━━━━━━━━━━━━━━━━━━━\u001b[0m\u001b[37m\u001b[0m \u001b[1m20s\u001b[0m 107ms/step - accuracy: 0.4835 - loss: 1.6900 - val_accuracy: 0.3720 - val_loss: 2.1764\n",
      "Epoch 5/15\n",
      "\u001b[1m188/188\u001b[0m \u001b[32m━━━━━━━━━━━━━━━━━━━━\u001b[0m\u001b[37m\u001b[0m \u001b[1m26s\u001b[0m 137ms/step - accuracy: 0.5695 - loss: 1.4291 - val_accuracy: 0.4283 - val_loss: 2.1268\n",
      "Epoch 6/15\n",
      "\u001b[1m188/188\u001b[0m \u001b[32m━━━━━━━━━━━━━━━━━━━━\u001b[0m\u001b[37m\u001b[0m \u001b[1m20s\u001b[0m 106ms/step - accuracy: 0.6486 - loss: 1.1489 - val_accuracy: 0.4360 - val_loss: 2.2665\n",
      "Epoch 7/15\n",
      "\u001b[1m188/188\u001b[0m \u001b[32m━━━━━━━━━━━━━━━━━━━━\u001b[0m\u001b[37m\u001b[0m \u001b[1m21s\u001b[0m 111ms/step - accuracy: 0.7119 - loss: 0.9346 - val_accuracy: 0.4603 - val_loss: 2.3476\n",
      "Epoch 8/15\n",
      "\u001b[1m188/188\u001b[0m \u001b[32m━━━━━━━━━━━━━━━━━━━━\u001b[0m\u001b[37m\u001b[0m \u001b[1m23s\u001b[0m 124ms/step - accuracy: 0.7722 - loss: 0.7345 - val_accuracy: 0.4683 - val_loss: 2.5239\n",
      "Epoch 9/15\n",
      "\u001b[1m188/188\u001b[0m \u001b[32m━━━━━━━━━━━━━━━━━━━━\u001b[0m\u001b[37m\u001b[0m \u001b[1m22s\u001b[0m 115ms/step - accuracy: 0.7989 - loss: 0.6070 - val_accuracy: 0.4823 - val_loss: 2.6548\n",
      "Epoch 10/15\n",
      "\u001b[1m188/188\u001b[0m \u001b[32m━━━━━━━━━━━━━━━━━━━━\u001b[0m\u001b[37m\u001b[0m \u001b[1m18s\u001b[0m 94ms/step - accuracy: 0.8367 - loss: 0.5080 - val_accuracy: 0.4953 - val_loss: 2.9310\n",
      "Epoch 11/15\n",
      "\u001b[1m188/188\u001b[0m \u001b[32m━━━━━━━━━━━━━━━━━━━━\u001b[0m\u001b[37m\u001b[0m \u001b[1m17s\u001b[0m 88ms/step - accuracy: 0.8634 - loss: 0.4078 - val_accuracy: 0.5017 - val_loss: 3.0422\n",
      "Epoch 12/15\n",
      "\u001b[1m188/188\u001b[0m \u001b[32m━━━━━━━━━━━━━━━━━━━━\u001b[0m\u001b[37m\u001b[0m \u001b[1m19s\u001b[0m 99ms/step - accuracy: 0.8847 - loss: 0.3375 - val_accuracy: 0.4833 - val_loss: 3.0597\n",
      "Epoch 13/15\n",
      "\u001b[1m188/188\u001b[0m \u001b[32m━━━━━━━━━━━━━━━━━━━━\u001b[0m\u001b[37m\u001b[0m \u001b[1m18s\u001b[0m 94ms/step - accuracy: 0.8879 - loss: 0.3368 - val_accuracy: 0.4863 - val_loss: 3.4094\n",
      "Epoch 14/15\n",
      "\u001b[1m188/188\u001b[0m \u001b[32m━━━━━━━━━━━━━━━━━━━━\u001b[0m\u001b[37m\u001b[0m \u001b[1m16s\u001b[0m 87ms/step - accuracy: 0.8958 - loss: 0.2985 - val_accuracy: 0.5150 - val_loss: 3.4055\n",
      "Epoch 15/15\n",
      "\u001b[1m188/188\u001b[0m \u001b[32m━━━━━━━━━━━━━━━━━━━━\u001b[0m\u001b[37m\u001b[0m \u001b[1m17s\u001b[0m 91ms/step - accuracy: 0.9290 - loss: 0.1789 - val_accuracy: 0.5197 - val_loss: 3.7371\n",
      "188/188 - 4s - 21ms/step - accuracy: 0.9352 - loss: 0.1623\n",
      "Test accuracy: 0.9351666569709778\n",
      "Test loss: 0.1623116284608841\n"
     ]
    }
   ],
   "source": [
    "CNN_train()"
   ]
  },
  {
   "cell_type": "code",
   "execution_count": null,
   "metadata": {},
   "outputs": [],
   "source": []
  }
 ],
 "metadata": {
  "kernelspec": {
   "display_name": "base",
   "language": "python",
   "name": "python3"
  },
  "language_info": {
   "codemirror_mode": {
    "name": "ipython",
    "version": 3
   },
   "file_extension": ".py",
   "mimetype": "text/x-python",
   "name": "python",
   "nbconvert_exporter": "python",
   "pygments_lexer": "ipython3",
   "version": "3.11.5"
  }
 },
 "nbformat": 4,
 "nbformat_minor": 2
}
